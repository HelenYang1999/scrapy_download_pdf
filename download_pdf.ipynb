{
 "cells": [
  {
   "cell_type": "code",
   "execution_count": 5,
   "metadata": {},
   "outputs": [],
   "source": [
    "#批量下载某个网站上的PDF文件\n",
    "from bs4 import BeautifulSoup\n",
    "from urllib.request import urlopen\n",
    "from urllib.request import urlretrieve\n",
    "import re\n",
    "\n",
    "url = \"http://vision.stanford.edu/teaching/cs231a_autumn1112/lecture/\"\n",
    "html = urlopen(url)\n",
    "bsObj = BeautifulSoup(html)"
   ]
  },
  {
   "cell_type": "code",
   "execution_count": 28,
   "metadata": {},
   "outputs": [
    {
     "name": "stdout",
     "output_type": "stream",
     "text": [
      "<a href=\"?C=N;O=D\">Name</a>\n",
      "<a href=\"?C=M;O=A\">Last modified</a>\n",
      "<a href=\"?C=S;O=A\">Size</a>\n",
      "<a href=\"?C=D;O=A\">Description</a>\n",
      "<a href=\"/teaching/cs231a_autumn1112/\">Parent Directory</a>\n",
      "<a href=\"CS231A_LinAlgProbRvw_ProblemSection.pdf\">CS231A_LinAlgProbRvw_ProblemSection.pdf</a>\n",
      "<a href=\"CS231A_PS1_ProblemSection.pdf\">CS231A_PS1_ProblemSection.pdf</a>\n",
      "<a href=\"CS231A_PS2_ProblemSession.pdf\">CS231A_PS2_ProblemSession.pdf</a>\n",
      "<a href=\"CS231A_PS3_ProblemSession.pdf\">CS231A_PS3_ProblemSession.pdf</a>\n",
      "<a href=\"CS231A_PS4_ProblemSession.pdf\">CS231A_PS4_ProblemSession.pdf</a>\n",
      "<a href=\"MidtermRvw.pdf\">MidtermRvw.pdf</a>\n",
      "<a href=\"MidtermTopics.pdf\">MidtermTopics.pdf</a>\n",
      "<a href=\"lecture1_introduction_cs231a.pdf\">lecture1_introduction_cs231a.pdf</a>\n",
      "<a href=\"lecture2_face_recognition_cs231a.pdf\">lecture2_face_recognition_cs231a.pdf</a>\n",
      "<a href=\"lecture2_face_recognition_cs231a_marked.pdf\">lecture2_face_recognition_cs231a_marked.pdf</a>\n",
      "<a href=\"lecture3_linear_filters_cs231a.pdf\">lecture3_linear_filters_cs231a.pdf</a>\n",
      "<a href=\"lecture3_linear_filters_cs231a_marked.pdf\">lecture3_linear_filters_cs231a_marked.pdf</a>\n",
      "<a href=\"lecture4_edges_lines_cs231a.pdf\">lecture4_edges_lines_cs231a.pdf</a>\n",
      "<a href=\"lecture4_edges_lines_cs231a_marked.pdf\">lecture4_edges_lines_cs231a_marked.pdf</a>\n",
      "<a href=\"lecture5_clustering_and_seg_p1_cs231a.pdf\">lecture5_clustering_and_seg_p1_cs231a.pdf</a>\n",
      "<a href=\"lecture5_clustering_and_seg_p1_cs231a_marked.pdf\">lecture5_clustering_and_seg_p1_cs231a_marked.pdf</a>\n",
      "<a href=\"lecture6_clustering_and_seg_p2_cs231a.pdf\">lecture6_clustering_and_seg_p2_cs231a.pdf</a>\n",
      "<a href=\"lecture6_clustering_and_seg_p2_cs231a_marked.pdf\">lecture6_clustering_and_seg_p2_cs231a_marked.pdf</a>\n",
      "<a href=\"lecture7_camera_models_cs231a.pdf\">lecture7_camera_models_cs231a.pdf</a>\n",
      "<a href=\"lecture7_camera_models_cs231a_marked.pdf\">lecture7_camera_models_cs231a_marked.pdf</a>\n",
      "<a href=\"lecture8_camera_calibration_cs231a.pdf\">lecture8_camera_calibration_cs231a.pdf</a>\n",
      "<a href=\"lecture8_camera_calibration_cs231a_marked.pdf\">lecture8_camera_calibration_cs231a_marked.pdf</a>\n",
      "<a href=\"lecture9_epipolar_geometry_cs231a.pdf\">lecture9_epipolar_geometry_cs231a.pdf</a>\n",
      "<a href=\"lecture9_epipolar_geometry_cs231a_marked.pdf\">lecture9_epipolar_geometry_cs231a_marked.pdf</a>\n",
      "<a href=\"lecture10_multi_view_cs231a.pdf\">lecture10_multi_view_cs231a.pdf</a>\n",
      "<a href=\"lecture10_multi_view_cs231a_old.pdf\">lecture10_multi_view_cs231a_old.pdf</a>\n",
      "<a href=\"lecture11_detectors_descriptors_cs231a.pdf\">lecture11_detectors_descriptors_cs231a.pdf</a>\n",
      "<a href=\"lecture11_detectors_descriptors_cs231a_marked.pdf\">lecture11_detectors_descriptors_cs231a_marked.pdf</a>\n",
      "<a href=\"lecture12_SIFT_single_obj_recog_cs231a.pdf\">lecture12_SIFT_single_obj_recog_cs231a.pdf</a>\n",
      "<a href=\"lecture12_SIFT_single_obj_recog_cs231a_marked.pdf\">lecture12_SIFT_single_obj_recog_cs231a_marked.pdf</a>\n",
      "<a href=\"lecture13_optical_flow_cs231a.pdf\">lecture13_optical_flow_cs231a.pdf</a>\n",
      "<a href=\"lecture13_optical_flow_cs231a_marked.pdf\">lecture13_optical_flow_cs231a_marked.pdf</a>\n",
      "<a href=\"lecture14_intro_objrecog_bow_cs231a.pdf\">lecture14_intro_objrecog_bow_cs231a.pdf</a>\n",
      "<a href=\"lecture14_intro_objrecog_bow_cs231a_marked.pdf\">lecture14_intro_objrecog_bow_cs231a_marked.pdf</a>\n",
      "<a href=\"lecture15_bow_part-based_cs231a.pdf\">lecture15_bow_part-based_cs231a.pdf</a>\n",
      "<a href=\"lecture15_bow_part-based_cs231a_marked.pdf\">lecture15_bow_part-based_cs231a_marked.pdf</a>\n",
      "<a href=\"lecture15_part-based_cs231a.pdf\">lecture15_part-based_cs231a.pdf</a>\n",
      "<a href=\"lecture16_part-based_cs231a.pdf\">lecture16_part-based_cs231a.pdf</a>\n",
      "<a href=\"lecture16_part-based_cs231a_marked.pdf\">lecture16_part-based_cs231a_marked.pdf</a>\n",
      "<a href=\"lecture17_object_detection_cs231a.pdf\">lecture17_object_detection_cs231a.pdf</a>\n",
      "<a href=\"lecture17_object_detection_cs231a_marked.pdf\">lecture17_object_detection_cs231a_marked.pdf</a>\n",
      "<a href=\"lecture18_motion_classification_cs231a.pdf\">lecture18_motion_classification_cs231a.pdf</a>\n",
      "<a href=\"lecture%2019_advanced_topics_cs231a.pdf\">lecture 19_advanced_topics_cs231a.pdf</a>\n",
      "<a href=\"lecture_linalgebra_rev4cameras_cs231a.pdf\">lecture_linalgebra_rev4cameras_cs231a.pdf</a>\n"
     ]
    }
   ],
   "source": [
    "import urllib\n",
    "import io\n",
    "\n",
    "alist = bsObj.findAll(\"a\")\n",
    "for a in alist:\n",
    "    print(a)"
   ]
  },
  {
   "cell_type": "code",
   "execution_count": 34,
   "metadata": {
    "scrolled": false
   },
   "outputs": [
    {
     "name": "stdout",
     "output_type": "stream",
     "text": [
      "finish download CS231A_LinAlgProbRvw_ProblemSection.pdf\n",
      "finish download CS231A_PS1_ProblemSection.pdf\n",
      "finish download CS231A_PS2_ProblemSession.pdf\n",
      "finish download CS231A_PS3_ProblemSession.pdf\n",
      "finish download CS231A_PS4_ProblemSession.pdf\n",
      "finish download MidtermRvw.pdf\n",
      "finish download MidtermTopics.pdf\n",
      "finish download lecture1_introduction_cs231a.pdf\n",
      "finish download lecture2_face_recognition_cs231a.pdf\n",
      "finish download lecture2_face_recognition_cs231a_marked.pdf\n",
      "finish download lecture3_linear_filters_cs231a.pdf\n",
      "finish download lecture3_linear_filters_cs231a_marked.pdf\n",
      "finish download lecture4_edges_lines_cs231a.pdf\n",
      "finish download lecture4_edges_lines_cs231a_marked.pdf\n",
      "finish download lecture5_clustering_and_seg_p1_cs231a.pdf\n",
      "finish download lecture5_clustering_and_seg_p1_cs231a_marked.pdf\n",
      "finish download lecture6_clustering_and_seg_p2_cs231a.pdf\n",
      "finish download lecture6_clustering_and_seg_p2_cs231a_marked.pdf\n",
      "finish download lecture7_camera_models_cs231a.pdf\n",
      "finish download lecture7_camera_models_cs231a_marked.pdf\n",
      "finish download lecture8_camera_calibration_cs231a.pdf\n",
      "finish download lecture8_camera_calibration_cs231a_marked.pdf\n",
      "finish download lecture9_epipolar_geometry_cs231a.pdf\n",
      "finish download lecture9_epipolar_geometry_cs231a_marked.pdf\n",
      "finish download lecture10_multi_view_cs231a.pdf\n",
      "finish download lecture10_multi_view_cs231a_old.pdf\n",
      "finish download lecture11_detectors_descriptors_cs231a.pdf\n",
      "finish download lecture11_detectors_descriptors_cs231a_marked.pdf\n",
      "finish download lecture12_SIFT_single_obj_recog_cs231a.pdf\n",
      "finish download lecture12_SIFT_single_obj_recog_cs231a_marked.pdf\n",
      "finish download lecture13_optical_flow_cs231a.pdf\n",
      "finish download lecture13_optical_flow_cs231a_marked.pdf\n",
      "finish download lecture14_intro_objrecog_bow_cs231a.pdf\n",
      "finish download lecture14_intro_objrecog_bow_cs231a_marked.pdf\n",
      "finish download lecture15_bow_part-based_cs231a.pdf\n",
      "finish download lecture15_bow_part-based_cs231a_marked.pdf\n",
      "finish download lecture15_part-based_cs231a.pdf\n",
      "finish download lecture16_part-based_cs231a.pdf\n",
      "finish download lecture16_part-based_cs231a_marked.pdf\n",
      "finish download lecture17_object_detection_cs231a.pdf\n",
      "finish download lecture17_object_detection_cs231a_marked.pdf\n",
      "finish download lecture18_motion_classification_cs231a.pdf\n",
      "finish download lecture%2019_advanced_topics_cs231a.pdf\n",
      "finish download lecture_linalgebra_rev4cameras_cs231a.pdf\n"
     ]
    }
   ],
   "source": [
    "import requests\n",
    "alist = bsObj.findAll(\"a\",{\"href\":re.compile(\"(.pdf)$\")})\n",
    "for a in alist:\n",
    "    filename =  a[\"href\"]\n",
    "    fileurl = url + filename\n",
    "    download_dir = filename+\".pdf\"\n",
    "    \n",
    "    r = requests.get(fileurl,stream=True)\n",
    "    with open(download_dir, 'wb') as f:\n",
    "        for chunk in r.iter_content(chunk_size=1024):\n",
    "            if chunk: \n",
    "                f.write(chunk)\n",
    "                f.flush()\n",
    "    print(\"finish download\",filename)\n",
    "    "
   ]
  },
  {
   "cell_type": "code",
   "execution_count": null,
   "metadata": {},
   "outputs": [],
   "source": []
  }
 ],
 "metadata": {
  "kernelspec": {
   "display_name": "Python [conda env:root]",
   "language": "python",
   "name": "conda-root-py"
  },
  "language_info": {
   "codemirror_mode": {
    "name": "ipython",
    "version": 3
   },
   "file_extension": ".py",
   "mimetype": "text/x-python",
   "name": "python",
   "nbconvert_exporter": "python",
   "pygments_lexer": "ipython3",
   "version": "3.7.6"
  }
 },
 "nbformat": 4,
 "nbformat_minor": 4
}
